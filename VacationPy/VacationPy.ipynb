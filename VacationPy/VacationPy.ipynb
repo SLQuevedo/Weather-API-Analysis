{
 "cells": [
  {
   "cell_type": "markdown",
   "metadata": {},
   "source": [
    "# VacationPy\n",
    "----\n",
    "\n",
    "#### Note\n",
    "* Keep an eye on your API usage. Use https://developers.google.com/maps/reporting/gmp-reporting as reference for how to monitor your usage and billing.\n",
    "\n",
    "* Instructions have been included for each segment. You do not have to follow them exactly, but they are included to help you think through the steps."
   ]
  },
  {
   "cell_type": "code",
   "execution_count": 1,
   "metadata": {},
   "outputs": [],
   "source": [
    "# Dependencies and Setup\n",
    "import matplotlib.pyplot as plt\n",
    "import pandas as pd\n",
    "import numpy as np\n",
    "import requests\n",
    "import gmaps\n",
    "import os\n",
    "\n",
    "# Import API key\n",
    "from api_keys import g_key"
   ]
  },
  {
   "cell_type": "markdown",
   "metadata": {},
   "source": [
    "### Store Part I results into DataFrame\n",
    "* Load the csv exported in Part I to a DataFrame"
   ]
  },
  {
   "cell_type": "code",
   "execution_count": 2,
   "metadata": {},
   "outputs": [
    {
     "data": {
      "text/html": [
       "<div>\n",
       "<style scoped>\n",
       "    .dataframe tbody tr th:only-of-type {\n",
       "        vertical-align: middle;\n",
       "    }\n",
       "\n",
       "    .dataframe tbody tr th {\n",
       "        vertical-align: top;\n",
       "    }\n",
       "\n",
       "    .dataframe thead th {\n",
       "        text-align: right;\n",
       "    }\n",
       "</style>\n",
       "<table border=\"1\" class=\"dataframe\">\n",
       "  <thead>\n",
       "    <tr style=\"text-align: right;\">\n",
       "      <th></th>\n",
       "      <th>Unnamed: 0</th>\n",
       "      <th>City</th>\n",
       "      <th>Lats</th>\n",
       "      <th>Lngs</th>\n",
       "      <th>Max Temp</th>\n",
       "      <th>Humidity</th>\n",
       "      <th>Cloudiness</th>\n",
       "      <th>Wind Speed</th>\n",
       "      <th>Country</th>\n",
       "      <th>Date</th>\n",
       "    </tr>\n",
       "  </thead>\n",
       "  <tbody>\n",
       "    <tr>\n",
       "      <th>0</th>\n",
       "      <td>0</td>\n",
       "      <td>Nikolskoye</td>\n",
       "      <td>59.7035</td>\n",
       "      <td>30.7861</td>\n",
       "      <td>18.77</td>\n",
       "      <td>82</td>\n",
       "      <td>49</td>\n",
       "      <td>1.17</td>\n",
       "      <td>RU</td>\n",
       "      <td>1659555815</td>\n",
       "    </tr>\n",
       "    <tr>\n",
       "      <th>1</th>\n",
       "      <td>1</td>\n",
       "      <td>Busselton</td>\n",
       "      <td>-33.6500</td>\n",
       "      <td>115.3333</td>\n",
       "      <td>11.89</td>\n",
       "      <td>73</td>\n",
       "      <td>95</td>\n",
       "      <td>8.35</td>\n",
       "      <td>AU</td>\n",
       "      <td>1659555816</td>\n",
       "    </tr>\n",
       "    <tr>\n",
       "      <th>2</th>\n",
       "      <td>2</td>\n",
       "      <td>Mataura</td>\n",
       "      <td>-46.1927</td>\n",
       "      <td>168.8643</td>\n",
       "      <td>6.93</td>\n",
       "      <td>87</td>\n",
       "      <td>100</td>\n",
       "      <td>1.84</td>\n",
       "      <td>NZ</td>\n",
       "      <td>1659555816</td>\n",
       "    </tr>\n",
       "    <tr>\n",
       "      <th>3</th>\n",
       "      <td>3</td>\n",
       "      <td>Olafsvik</td>\n",
       "      <td>64.8945</td>\n",
       "      <td>-23.7142</td>\n",
       "      <td>10.02</td>\n",
       "      <td>65</td>\n",
       "      <td>15</td>\n",
       "      <td>5.07</td>\n",
       "      <td>IS</td>\n",
       "      <td>1659555601</td>\n",
       "    </tr>\n",
       "    <tr>\n",
       "      <th>4</th>\n",
       "      <td>4</td>\n",
       "      <td>Rikitea</td>\n",
       "      <td>-23.1203</td>\n",
       "      <td>-134.9692</td>\n",
       "      <td>22.29</td>\n",
       "      <td>68</td>\n",
       "      <td>71</td>\n",
       "      <td>7.16</td>\n",
       "      <td>PF</td>\n",
       "      <td>1659555817</td>\n",
       "    </tr>\n",
       "  </tbody>\n",
       "</table>\n",
       "</div>"
      ],
      "text/plain": [
       "   Unnamed: 0        City     Lats      Lngs  Max Temp  Humidity  Cloudiness  \\\n",
       "0           0  Nikolskoye  59.7035   30.7861     18.77        82          49   \n",
       "1           1   Busselton -33.6500  115.3333     11.89        73          95   \n",
       "2           2     Mataura -46.1927  168.8643      6.93        87         100   \n",
       "3           3    Olafsvik  64.8945  -23.7142     10.02        65          15   \n",
       "4           4     Rikitea -23.1203 -134.9692     22.29        68          71   \n",
       "\n",
       "   Wind Speed Country        Date  \n",
       "0        1.17      RU  1659555815  \n",
       "1        8.35      AU  1659555816  \n",
       "2        1.84      NZ  1659555816  \n",
       "3        5.07      IS  1659555601  \n",
       "4        7.16      PF  1659555817  "
      ]
     },
     "execution_count": 2,
     "metadata": {},
     "output_type": "execute_result"
    }
   ],
   "source": [
    "cities_data_path = \"../WeatherPy/output_data/cities.csv\"\n",
    "\n",
    "cities_data = pd.read_csv(cities_data_path)\n",
    "\n",
    "cities_data.head()"
   ]
  },
  {
   "cell_type": "markdown",
   "metadata": {},
   "source": [
    "### Humidity Heatmap\n",
    "* Configure gmaps.\n",
    "* Use the Lat and Lng as locations and Humidity as the weight.\n",
    "* Add Heatmap layer to map."
   ]
  },
  {
   "cell_type": "code",
   "execution_count": 1,
   "metadata": {},
   "outputs": [
    {
     "name": "stderr",
     "output_type": "stream",
     "text": [
      "Enabling notebook extension jupyter-gmaps/extension...\n",
      "      - Validating: ok\n"
     ]
    }
   ],
   "source": [
    "#enable the gmaps extension\n",
    "#!jupyter nbextension enable --py --sys-prefix gmaps"
   ]
  },
  {
   "cell_type": "code",
   "execution_count": 10,
   "metadata": {},
   "outputs": [],
   "source": [
    "#configure gmaps\n",
    "gmaps.configure(api_key=g_key)\n",
    "# Store latitude and longitude in locations\n",
    "locations = cities_data[[\"Lats\", \"Lngs\"]]\n",
    "\n",
    "#store humidity in humidity\n",
    "humidity= cities_data[\"Humidity\"]"
   ]
  },
  {
   "cell_type": "code",
   "execution_count": 11,
   "metadata": {},
   "outputs": [
    {
     "data": {
      "application/vnd.jupyter.widget-view+json": {
       "model_id": "e420cd205d0642589e81c3e199211d65",
       "version_major": 2,
       "version_minor": 0
      },
      "text/plain": [
       "Figure(layout=FigureLayout(height='420px'))"
      ]
     },
     "metadata": {},
     "output_type": "display_data"
    }
   ],
   "source": [
    "# Plot Heatmap\n",
    "fig = gmaps.figure()\n",
    "\n",
    "# Create heat layer\n",
    "heat_layer = gmaps.heatmap_layer(locations, weights=humidity, \n",
    "                                 dissipating=False, max_intensity=10,\n",
    "                                 point_radius=1)\n",
    "\n",
    "\n",
    "# Add layer\n",
    "fig.add_layer(heat_layer)\n",
    "\n",
    "# Display figure\n",
    "fig"
   ]
  },
  {
   "cell_type": "markdown",
   "metadata": {},
   "source": [
    "### Create new DataFrame fitting weather criteria\n",
    "* Narrow down the cities to fit weather conditions.\n",
    "* Drop any rows will null values."
   ]
  },
  {
   "cell_type": "code",
   "execution_count": 5,
   "metadata": {},
   "outputs": [
    {
     "data": {
      "text/html": [
       "<div>\n",
       "<style scoped>\n",
       "    .dataframe tbody tr th:only-of-type {\n",
       "        vertical-align: middle;\n",
       "    }\n",
       "\n",
       "    .dataframe tbody tr th {\n",
       "        vertical-align: top;\n",
       "    }\n",
       "\n",
       "    .dataframe thead th {\n",
       "        text-align: right;\n",
       "    }\n",
       "</style>\n",
       "<table border=\"1\" class=\"dataframe\">\n",
       "  <thead>\n",
       "    <tr style=\"text-align: right;\">\n",
       "      <th></th>\n",
       "      <th>Unnamed: 0</th>\n",
       "      <th>City</th>\n",
       "      <th>Lats</th>\n",
       "      <th>Lngs</th>\n",
       "      <th>Max Temp</th>\n",
       "      <th>Humidity</th>\n",
       "      <th>Cloudiness</th>\n",
       "      <th>Wind Speed</th>\n",
       "      <th>Country</th>\n",
       "      <th>Date</th>\n",
       "    </tr>\n",
       "  </thead>\n",
       "  <tbody>\n",
       "    <tr>\n",
       "      <th>259</th>\n",
       "      <td>259</td>\n",
       "      <td>Lamu</td>\n",
       "      <td>-2.2717</td>\n",
       "      <td>40.9020</td>\n",
       "      <td>24.02</td>\n",
       "      <td>78</td>\n",
       "      <td>0</td>\n",
       "      <td>7.40</td>\n",
       "      <td>KE</td>\n",
       "      <td>1659555943</td>\n",
       "    </tr>\n",
       "    <tr>\n",
       "      <th>310</th>\n",
       "      <td>310</td>\n",
       "      <td>Hede</td>\n",
       "      <td>33.7681</td>\n",
       "      <td>120.2517</td>\n",
       "      <td>25.52</td>\n",
       "      <td>94</td>\n",
       "      <td>0</td>\n",
       "      <td>2.08</td>\n",
       "      <td>CN</td>\n",
       "      <td>1659555968</td>\n",
       "    </tr>\n",
       "    <tr>\n",
       "      <th>371</th>\n",
       "      <td>371</td>\n",
       "      <td>Birjand</td>\n",
       "      <td>32.8663</td>\n",
       "      <td>59.2211</td>\n",
       "      <td>23.26</td>\n",
       "      <td>20</td>\n",
       "      <td>0</td>\n",
       "      <td>3.09</td>\n",
       "      <td>IR</td>\n",
       "      <td>1659555997</td>\n",
       "    </tr>\n",
       "    <tr>\n",
       "      <th>378</th>\n",
       "      <td>378</td>\n",
       "      <td>Morondava</td>\n",
       "      <td>-20.2833</td>\n",
       "      <td>44.2833</td>\n",
       "      <td>22.74</td>\n",
       "      <td>83</td>\n",
       "      <td>0</td>\n",
       "      <td>3.20</td>\n",
       "      <td>MG</td>\n",
       "      <td>1659556000</td>\n",
       "    </tr>\n",
       "    <tr>\n",
       "      <th>428</th>\n",
       "      <td>428</td>\n",
       "      <td>Port Angeles</td>\n",
       "      <td>48.1181</td>\n",
       "      <td>-123.4307</td>\n",
       "      <td>21.47</td>\n",
       "      <td>76</td>\n",
       "      <td>0</td>\n",
       "      <td>2.68</td>\n",
       "      <td>US</td>\n",
       "      <td>1659555535</td>\n",
       "    </tr>\n",
       "    <tr>\n",
       "      <th>481</th>\n",
       "      <td>481</td>\n",
       "      <td>Arona</td>\n",
       "      <td>28.0996</td>\n",
       "      <td>-16.6810</td>\n",
       "      <td>22.61</td>\n",
       "      <td>69</td>\n",
       "      <td>0</td>\n",
       "      <td>8.75</td>\n",
       "      <td>ES</td>\n",
       "      <td>1659556051</td>\n",
       "    </tr>\n",
       "    <tr>\n",
       "      <th>531</th>\n",
       "      <td>531</td>\n",
       "      <td>Milas</td>\n",
       "      <td>37.3164</td>\n",
       "      <td>27.7839</td>\n",
       "      <td>24.64</td>\n",
       "      <td>73</td>\n",
       "      <td>0</td>\n",
       "      <td>1.54</td>\n",
       "      <td>TR</td>\n",
       "      <td>1659556077</td>\n",
       "    </tr>\n",
       "  </tbody>\n",
       "</table>\n",
       "</div>"
      ],
      "text/plain": [
       "     Unnamed: 0          City     Lats      Lngs  Max Temp  Humidity  \\\n",
       "259         259          Lamu  -2.2717   40.9020     24.02        78   \n",
       "310         310          Hede  33.7681  120.2517     25.52        94   \n",
       "371         371       Birjand  32.8663   59.2211     23.26        20   \n",
       "378         378     Morondava -20.2833   44.2833     22.74        83   \n",
       "428         428  Port Angeles  48.1181 -123.4307     21.47        76   \n",
       "481         481         Arona  28.0996  -16.6810     22.61        69   \n",
       "531         531         Milas  37.3164   27.7839     24.64        73   \n",
       "\n",
       "     Cloudiness  Wind Speed Country        Date  \n",
       "259           0        7.40      KE  1659555943  \n",
       "310           0        2.08      CN  1659555968  \n",
       "371           0        3.09      IR  1659555997  \n",
       "378           0        3.20      MG  1659556000  \n",
       "428           0        2.68      US  1659555535  \n",
       "481           0        8.75      ES  1659556051  \n",
       "531           0        1.54      TR  1659556077  "
      ]
     },
     "execution_count": 5,
     "metadata": {},
     "output_type": "execute_result"
    }
   ],
   "source": [
    "#filtering weather by celsius\n",
    "filter_weather = cities_data.loc[(cities_data[\"Max Temp\"] < 26.6667) & (cities_data[\"Max Temp\"] > 21.1111)]\n",
    "\n",
    "#filtering our data again to have wind speed < 10\n",
    "filter_weather = filter_weather.loc[filter_weather[\"Wind Speed\"] < 10]\n",
    "\n",
    "#and again so that we have clear skies\n",
    "filter_weather = filter_weather.loc[filter_weather[\"Cloudiness\"] == 0]\n",
    "\n",
    "#display data\n",
    "#there are no null values\n",
    "filter_weather"
   ]
  },
  {
   "cell_type": "markdown",
   "metadata": {},
   "source": [
    "### Hotel Map\n",
    "* Store into variable named `hotel_df`.\n",
    "* Add a \"Hotel Name\" column to the DataFrame.\n",
    "* Set parameters to search for hotels with 5000 meters.\n",
    "* Hit the Google Places API for each city's coordinates.\n",
    "* Store the first Hotel result into the DataFrame.\n",
    "* Plot markers on top of the heatmap."
   ]
  },
  {
   "cell_type": "code",
   "execution_count": 6,
   "metadata": {},
   "outputs": [
    {
     "name": "stdout",
     "output_type": "stream",
     "text": [
      "Retrieving results for index 259 : Lamu\n",
      "The nearest hotel is Lamu House\n",
      "-------------\n",
      "Retrieving results for index 310 : Hede\n",
      "The nearest hotel is Vienna 3 Best Hotel Sheyang Jiefang Rd\n",
      "-------------\n",
      "Retrieving results for index 371 : Birjand\n",
      "The nearest hotel is Birjand Tourist Hotel\n",
      "-------------\n",
      "Retrieving results for index 378 : Morondava\n",
      "The nearest hotel is La Case Bambou\n",
      "-------------\n",
      "Retrieving results for index 428 : Port Angeles\n",
      "The nearest hotel is Red Lion Hotel Port Angeles Harbor\n",
      "-------------\n",
      "Retrieving results for index 481 : Arona\n",
      "The nearest hotel is Paradise Court\n",
      "-------------\n",
      "Retrieving results for index 531 : Milas\n",
      "The nearest hotel is Milashan Hotel\n",
      "-------------\n"
     ]
    }
   ],
   "source": [
    "#rename dataframe\n",
    "hotel_df = filter_weather \n",
    "\n",
    "#setting up the url construction\n",
    "base_url = \"https://maps.googleapis.com/maps/api/place/nearbysearch/json\"\n",
    "params = {\"radius\": 5000,\n",
    "    \"type\": \"lodging\",\n",
    "    \"key\": g_key}\n",
    "\n",
    "for index, row in hotel_df.iterrows():\n",
    "    \n",
    "    #get coords from df\n",
    "    lat = row[\"Lats\"]\n",
    "    lng = row[\"Lngs\"]\n",
    "    \n",
    "    #puts our lat and lngs into our location parameter, this is inside our loop because it is changing\n",
    "    params[\"location\"] = f\"{lat},{lng}\"\n",
    "    \n",
    "    #get results\n",
    "    print(f\"Retrieving results for index {index} : {row['City']}\")\n",
    "    response = requests.get(base_url, params=params).json()\n",
    "    results = response['results']\n",
    "    \n",
    "    try:\n",
    "        #printing our results\n",
    "        print(f\"The nearest hotel is {results[0]['name']}\")\n",
    "        hotel_df.loc[index, 'Hotel Name'] = results[0]['name']\n",
    "        \n",
    "    except (KeyError, IndexError):\n",
    "        #printing our result if we dont have a hotel within 5000m\n",
    "        print(\"Missing field/result... skipping.\")\n",
    "    print(\"-------------\")\n"
   ]
  },
  {
   "cell_type": "code",
   "execution_count": 7,
   "metadata": {},
   "outputs": [],
   "source": [
    "#use this to remove a city that did not have a hotel within 5000 meters  \n",
    "#clean_hotel_df = hotel_df.loc[hotel_df[\"City\"] != \"city name\"]\n",
    "clean_hotel_df = hotel_df"
   ]
  },
  {
   "cell_type": "code",
   "execution_count": 8,
   "metadata": {},
   "outputs": [],
   "source": [
    "# NOTE: Do not change any of the code in this cell\n",
    "\n",
    "# Using the template add the hotel marks to the heatmap\n",
    "info_box_template = \"\"\"\n",
    "<dl>\n",
    "<dt>Name</dt><dd>{Hotel Name}</dd>\n",
    "<dt>City</dt><dd>{City}</dd>\n",
    "<dt>Country</dt><dd>{Country}</dd>\n",
    "</dl>\n",
    "\"\"\"\n",
    "# Store the DataFrame Row\n",
    "# NOTE: be sure to update with your DataFrame name\n",
    "hotel_info = [info_box_template.format(**row) for index, row in clean_hotel_df.iterrows()]\n",
    "locations = clean_hotel_df[[\"Lats\", \"Lngs\"]]\n",
    "markers = gmaps.marker_layer(locations)"
   ]
  },
  {
   "cell_type": "code",
   "execution_count": 9,
   "metadata": {},
   "outputs": [
    {
     "data": {
      "application/vnd.jupyter.widget-view+json": {
       "model_id": "94418f07206246c0809efdcdde61c847",
       "version_major": 2,
       "version_minor": 0
      },
      "text/plain": [
       "Figure(layout=FigureLayout(height='420px'))"
      ]
     },
     "metadata": {},
     "output_type": "display_data"
    }
   ],
   "source": [
    "# Create hotel symbol layer\n",
    "\n",
    "hotel_layer = gmaps.symbol_layer(\n",
    "    locations, fill_color='rgba(0, 150, 0, 0.4)',\n",
    "    stroke_color='rgba(0, 0, 150, 0.4)', scale=2,\n",
    "    info_box_content=hotel_info\n",
    ")\n",
    "# Add the layer to the map\n",
    "fig.add_layer(markers)\n",
    "fig.add_layer(hotel_layer)\n",
    "fig\n"
   ]
  },
  {
   "cell_type": "code",
   "execution_count": null,
   "metadata": {},
   "outputs": [],
   "source": []
  }
 ],
 "metadata": {
  "kernelspec": {
   "display_name": "Python 3 (ipykernel)",
   "language": "python",
   "name": "python3"
  },
  "language_info": {
   "codemirror_mode": {
    "name": "ipython",
    "version": 3
   },
   "file_extension": ".py",
   "mimetype": "text/x-python",
   "name": "python",
   "nbconvert_exporter": "python",
   "pygments_lexer": "ipython3",
   "version": "3.9.12"
  },
  "latex_envs": {
   "LaTeX_envs_menu_present": true,
   "autoclose": false,
   "autocomplete": true,
   "bibliofile": "biblio.bib",
   "cite_by": "apalike",
   "current_citInitial": 1,
   "eqLabelWithNumbers": true,
   "eqNumInitial": 1,
   "hotkeys": {
    "equation": "Ctrl-E",
    "itemize": "Ctrl-I"
   },
   "labels_anchors": false,
   "latex_user_defs": false,
   "report_style_numbering": false,
   "user_envs_cfg": false
  }
 },
 "nbformat": 4,
 "nbformat_minor": 4
}
