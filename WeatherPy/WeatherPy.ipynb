{
 "cells": [
  {
   "cell_type": "markdown",
   "metadata": {},
   "source": [
    "# WeatherPy\n",
    "----\n",
    "\n",
    "#### Note\n",
    "* Instructions have been included for each segment. You do not have to follow them exactly, but they are included to help you think through the steps."
   ]
  },
  {
   "cell_type": "markdown",
   "metadata": {},
   "source": [
    "# Findings\n",
    "Based off our graphs it seems that latidute has a strong correlation to the maximum temperature for the Northern and Southern hemispheres. For both the Northern and Southern hemisphere the temperature rises as the latitude gets closer to the equator. We can conclude that warmer temperatures are near the equator. Latitude didn't have a strong correlation to humidity, cloudiness or windspeed. I think it would be interesting to investigate these three aspects to see if there is any correlation between them. I noticed that between the Northern and Southern hemisphere graphs for wind speed vs latitude they looked similar. I calculated the mean, median, sem, var and standard deviation of each hemispheres wind speed and found that the values were similar. I think this strengthens the observation that there is not correlation between latitude and wind speed.  "
   ]
  },
  {
   "cell_type": "code",
   "execution_count": 1,
   "metadata": {},
   "outputs": [
    {
     "name": "stdout",
     "output_type": "stream",
     "text": [
      "Requirement already satisfied: citipy in c:\\users\\owner\\anaconda3\\lib\\site-packages (0.0.5)\n",
      "Requirement already satisfied: kdtree>=0.12 in c:\\users\\owner\\anaconda3\\lib\\site-packages (from citipy) (0.16)\n",
      "Note: you may need to restart the kernel to use updated packages.\n"
     ]
    }
   ],
   "source": [
    "#pip install citipy"
   ]
  },
  {
   "cell_type": "code",
   "execution_count": 2,
   "metadata": {
    "scrolled": true
   },
   "outputs": [],
   "source": [
    "# Dependencies and Setup\n",
    "import matplotlib.pyplot as plt\n",
    "import pandas as pd\n",
    "import numpy as np\n",
    "import requests\n",
    "import time\n",
    "from scipy.stats import linregress\n",
    "\n",
    "# Import API key\n",
    "from api_keys import weather_api_key\n",
    "\n",
    "# Incorporated citipy to determine city based on latitude and longitude\n",
    "from citipy import citipy\n",
    "\n",
    "# Output File (CSV)\n",
    "output_data_file = \"output_data/cities.csv\"\n",
    "\n",
    "# Range of latitudes and longitudes\n",
    "lat_range = (-90, 90)\n",
    "lng_range = (-180, 180)"
   ]
  },
  {
   "cell_type": "markdown",
   "metadata": {},
   "source": [
    "## Generate Cities List"
   ]
  },
  {
   "cell_type": "code",
   "execution_count": 4,
   "metadata": {},
   "outputs": [
    {
     "name": "stdout",
     "output_type": "stream",
     "text": [
      "606\n"
     ]
    }
   ],
   "source": [
    "# List for holding lat_lngs and cities\n",
    "lat_lngs = []\n",
    "cities = []\n",
    "\n",
    "# Create a set of random lat and lng combinations\n",
    "lats = np.random.uniform(lat_range[0], lat_range[1], size=1500)\n",
    "lngs = np.random.uniform(lng_range[0], lng_range[1], size=1500)\n",
    "lat_lngs = zip(lats, lngs)\n",
    "\n",
    "# Identify nearest city for each lat, lng combination\n",
    "for lat_lng in lat_lngs:\n",
    "    city = citipy.nearest_city(lat_lng[0], lat_lng[1]).city_name\n",
    "    \n",
    "    # If the city is unique, then add it to a our cities list\n",
    "    if city not in cities:\n",
    "        cities.append(city)\n",
    "\n",
    "# Print the city count to confirm sufficient count\n",
    "print(len(cities))"
   ]
  },
  {
   "cell_type": "markdown",
   "metadata": {},
   "source": [
    "### Perform API Calls\n",
    "* Perform a weather check on each city using a series of successive API calls.\n",
    "* Include a print log of each city as it'sbeing processed (with the city number and city name).\n"
   ]
  },
  {
   "cell_type": "code",
   "execution_count": 5,
   "metadata": {},
   "outputs": [
    {
     "name": "stdout",
     "output_type": "stream",
     "text": [
      "Starting Retrieval...\n",
      "Processing record: 1 nikolskoye\n",
      "Processing record: 2 busselton\n",
      "Processing record: 3 mataura\n",
      "Processing record: 4 olafsvik\n",
      "Processing record: 5 rikitea\n",
      "Processing record: 6 pombas\n",
      "Processing record: 7 vilanova del cami\n",
      "Processing record: 8 shakawe\n",
      "Processing record: 9 port alfred\n",
      "Processing record: 10 saquena\n",
      "Processing record: 11 hithadhoo\n",
      "Processing record: 12 bluff\n",
      "Processing record: 13 inuvik\n",
      "Processing record: 14 vao\n",
      "Processing record: 15 port elizabeth\n",
      "Processing record: 16 albany\n",
      "Processing record: 17 vaini\n",
      "Processing record: 18 cidreira\n",
      "Processing record: 19 ola\n",
      "Processing record: 20 chuy\n",
      "Processing record: 21 college\n",
      "Processing record: 22 leningradskiy\n",
      "Processing record: 23 butaritari\n",
      "Processing record: 24 chiguayante\n",
      "Processing record: 25 bethel\n",
      "Processing record: 26 ushuaia\n",
      "Processing record: 27 coihueco\n",
      "Processing record: 29 bodden town\n",
      "Processing record: 30 trincomalee\n",
      "Processing record: 31 fairbanks\n",
      "Processing record: 32 puerto ayora\n",
      "Processing record: 33 plettenberg bay\n",
      "Processing record: 34 teeli\n",
      "Processing record: 35 lebu\n",
      "Processing record: 36 cabo san lucas\n",
      "Processing record: 37 azare\n",
      "Processing record: 38 alofi\n",
      "Processing record: 39 ginda\n",
      "Processing record: 40 kahului\n",
      "Processing record: 42 isangel\n",
      "Processing record: 43 mahebourg\n",
      "Processing record: 44 hermanus\n",
      "Processing record: 45 east london\n",
      "Processing record: 46 tha bo\n",
      "Processing record: 47 pangody\n",
      "Processing record: 48 puerto colombia\n",
      "Processing record: 49 norwood\n",
      "Processing record: 50 noshiro\n",
      "Processing record: 51 new norfolk\n",
      "Processing record: 52 karratha\n",
      "Processing record: 53 lorengau\n",
      "Processing record: 54 nanortalik\n",
      "Processing record: 56 leh\n",
      "Processing record: 57 dukat\n",
      "Processing record: 58 kodinsk\n",
      "Processing record: 59 liverpool\n",
      "Processing record: 60 sovetskiy\n",
      "Processing record: 61 tateyama\n",
      "Processing record: 62 hobart\n",
      "Processing record: 63 kailua\n",
      "Processing record: 64 talavera de la reina\n",
      "Processing record: 65 khatanga\n",
      "Processing record: 66 leshukonskoye\n",
      "Processing record: 67 arraial do cabo\n",
      "Processing record: 68 mokhsogollokh\n",
      "Processing record: 69 tynda\n",
      "Processing record: 70 buchanan\n",
      "Processing record: 71 faya\n",
      "Processing record: 72 kavaratti\n",
      "Processing record: 73 ayan\n",
      "Processing record: 74 itoman\n",
      "Processing record: 75 portland\n",
      "Processing record: 76 batagay\n",
      "Processing record: 77 georgetown\n",
      "Processing record: 78 qaanaaq\n",
      "Processing record: 79 geraldton\n",
      "Processing record: 80 roebourne\n",
      "Processing record: 81 broome\n",
      "Processing record: 82 chokurdakh\n",
      "Processing record: 83 norman wells\n",
      "Processing record: 84 carauari\n",
      "Processing record: 85 mar del plata\n",
      "Processing record: 86 katsuura\n",
      "Processing record: 87 jamestown\n",
      "Processing record: 88 flinders\n",
      "Processing record: 89 punta arenas\n",
      "Processing record: 91 griffith\n",
      "Processing record: 92 soyaux\n",
      "Processing record: 93 magistralnyy\n",
      "Processing record: 94 faanui\n",
      "Processing record: 95 iralaya\n",
      "Processing record: 96 kapaa\n",
      "Processing record: 97 castro\n",
      "Processing record: 98 cabra\n",
      "Processing record: 99 saint-philippe\n",
      "Processing record: 100 rincon\n",
      "Processing record: 101 port-gentil\n",
      "Processing record: 102 carnarvon\n",
      "Processing record: 103 ranong\n",
      "Processing record: 104 esperance\n",
      "Processing record: 105 ponta delgada\n",
      "Processing record: 106 berlevag\n",
      "Processing record: 107 hovd\n",
      "Processing record: 108 cape town\n",
      "Processing record: 109 airai\n",
      "Processing record: 110 tasiilaq\n",
      "Processing record: 111 thinadhoo\n",
      "Processing record: 112 changji\n",
      "Processing record: 113 hofn\n",
      "Processing record: 114 jaroslaw\n",
      "Processing record: 115 virden\n",
      "Processing record: 116 hailey\n",
      "Processing record: 117 hualmay\n",
      "Processing record: 118 saldanha\n",
      "Processing record: 119 lata\n",
      "Processing record: 120 yellowknife\n",
      "Processing record: 122 thompson\n",
      "Processing record: 124 itupiranga\n",
      "Processing record: 125 okato\n",
      "Processing record: 126 durres\n",
      "Processing record: 127 porto novo\n",
      "Processing record: 128 inhambane\n",
      "Processing record: 129 ahipara\n",
      "Processing record: 130 sakakah\n",
      "Processing record: 131 brae\n",
      "Processing record: 132 cayenne\n",
      "Processing record: 133 vostok\n",
      "Processing record: 134 atuona\n",
      "Processing record: 136 severo-yeniseyskiy\n",
      "Processing record: 137 pa sang\n",
      "Processing record: 139 zonguldak\n",
      "Processing record: 140 barwala\n",
      "Processing record: 141 saint george\n",
      "Processing record: 142 weilmunster\n",
      "Processing record: 143 tuktoyaktuk\n",
      "Processing record: 146 sorland\n",
      "Processing record: 147 xiaoshi\n",
      "Processing record: 148 tilichiki\n",
      "Processing record: 149 boquira\n",
      "Processing record: 150 severo-kurilsk\n",
      "Processing record: 151 sampit\n",
      "Processing record: 152 nemuro\n",
      "Processing record: 153 tura\n",
      "Processing record: 154 vestmannaeyjar\n",
      "Processing record: 155 provideniya\n",
      "Processing record: 156 ponta do sol\n",
      "Processing record: 157 lithakia\n",
      "Processing record: 158 padang\n",
      "Processing record: 159 chervona sloboda\n",
      "Processing record: 160 shenjiamen\n",
      "Processing record: 161 svetlogorsk\n",
      "Processing record: 162 hamilton\n",
      "Processing record: 163 contla\n",
      "Processing record: 164 coquimbo\n",
      "Processing record: 165 bouca\n",
      "Processing record: 166 simoes\n",
      "Processing record: 167 itarema\n",
      "Processing record: 168 hendrina\n",
      "Processing record: 169 barrow\n",
      "Processing record: 170 tiksi\n",
      "Processing record: 171 tripoli\n",
      "Processing record: 172 itaqui\n",
      "Processing record: 173 nalut\n",
      "Processing record: 175 pevek\n",
      "Processing record: 176 the valley\n",
      "Processing record: 177 sembe\n",
      "Processing record: 178 plouzane\n",
      "Processing record: 179 jumla\n",
      "Processing record: 180 sabzevar\n",
      "Processing record: 183 hasaki\n",
      "Processing record: 184 along\n",
      "Processing record: 185 husavik\n",
      "Processing record: 187 hobyo\n",
      "Processing record: 188 sinjai\n",
      "Processing record: 189 varhaug\n",
      "Processing record: 190 namibe\n",
      "Processing record: 191 tuatapere\n",
      "Processing record: 192 bubaque\n",
      "Processing record: 193 lalibela\n",
      "Processing record: 194 upernavik\n",
      "Processing record: 195 fukue\n",
      "Processing record: 196 hoquiam\n",
      "Processing record: 197 jurm\n",
      "Processing record: 198 abu samrah\n",
      "Processing record: 199 haines junction\n",
      "Processing record: 200 tyup\n",
      "Processing record: 202 hilo\n",
      "Processing record: 204 laguna\n",
      "Processing record: 205 paraiso\n",
      "Processing record: 206 constitucion\n",
      "Processing record: 207 roanoke rapids\n",
      "Processing record: 208 homer\n",
      "Processing record: 209 amurrio\n",
      "Processing record: 210 sambava\n",
      "Processing record: 212 takhtamygda\n",
      "Processing record: 213 owando\n",
      "Processing record: 214 codrington\n",
      "Processing record: 215 chapais\n",
      "Processing record: 216 sumbe\n",
      "Processing record: 217 keti bandar\n",
      "Processing record: 218 kaeo\n",
      "Processing record: 219 freeport\n",
      "Processing record: 220 saskylakh\n",
      "Processing record: 221 beringovskiy\n",
      "Processing record: 223 yacuiba\n",
      "Processing record: 224 bestobe\n",
      "Processing record: 225 muzhi\n",
      "Processing record: 226 lavrentiya\n",
      "Processing record: 227 vyazma\n",
      "Processing record: 228 lompoc\n",
      "Processing record: 229 bonavista\n",
      "Processing record: 230 bredasdorp\n",
      "Processing record: 231 port lincoln\n",
      "Processing record: 233 seoul\n",
      "Processing record: 234 mjolby\n",
      "Processing record: 235 bengkulu\n",
      "Processing record: 236 longyearbyen\n",
      "Processing record: 237 yulara\n",
      "Processing record: 238 messina\n",
      "Processing record: 239 tabas\n",
      "Processing record: 240 atar\n",
      "Processing record: 241 vilhena\n",
      "Processing record: 242 jimeta\n",
      "Processing record: 243 avarua\n",
      "Processing record: 244 yar-sale\n",
      "Processing record: 245 paamiut\n",
      "Processing record: 246 okha\n",
      "Processing record: 247 axim\n",
      "Processing record: 248 talnakh\n",
      "Processing record: 249 victoria\n",
      "Processing record: 251 san rafael del sur\n",
      "Processing record: 252 okhotsk\n",
      "Processing record: 253 iqaluit\n",
      "Processing record: 256 khadyzhensk\n",
      "Processing record: 257 salamanca\n",
      "Processing record: 258 vaitape\n",
      "Processing record: 259 trapani\n",
      "Processing record: 260 ilulissat\n",
      "Processing record: 261 raahe\n",
      "Processing record: 262 vardo\n",
      "Processing record: 263 manta\n",
      "Processing record: 264 rawson\n",
      "Processing record: 265 cherskiy\n",
      "Processing record: 266 necochea\n",
      "Processing record: 267 pathalgaon\n",
      "Processing record: 268 dicabisagan\n",
      "Processing record: 269 waingapu\n",
      "Processing record: 270 russell\n",
      "Processing record: 271 gat\n",
      "Processing record: 272 aberdeen\n",
      "Processing record: 273 meulaboh\n",
      "Processing record: 274 touros\n",
      "Processing record: 275 ndele\n",
      "Processing record: 276 pierre\n",
      "Processing record: 277 praia\n",
      "Processing record: 278 karla\n",
      "Processing record: 279 narsaq\n",
      "Processing record: 280 mildura\n",
      "Processing record: 281 ulverstone\n",
      "Processing record: 282 lamu\n"
     ]
    },
    {
     "name": "stdout",
     "output_type": "stream",
     "text": [
      "Processing record: 283 carbonia\n",
      "Processing record: 284 mirabad\n",
      "Processing record: 285 gemena\n",
      "Processing record: 286 kensington\n",
      "Processing record: 287 lukovetskiy\n",
      "Processing record: 288 lasa\n",
      "Processing record: 289 fortuna\n",
      "Processing record: 290 vryburg\n",
      "Processing record: 291 presidencia roque saenz pena\n",
      "Processing record: 292 beyneu\n",
      "Processing record: 293 harrison\n",
      "Processing record: 294 kirakira\n",
      "Processing record: 295 nizip\n",
      "Processing record: 296 san quintin\n",
      "Processing record: 297 nelson bay\n",
      "Processing record: 299 cienfuegos\n",
      "Processing record: 300 mayo\n",
      "Processing record: 301 araouane\n",
      "Processing record: 302 srednekolymsk\n",
      "Processing record: 304 raudeberg\n",
      "Processing record: 305 anito\n",
      "Processing record: 306 tucurui\n",
      "Processing record: 307 broken hill\n",
      "Processing record: 308 dikson\n",
      "Processing record: 309 antalaha\n",
      "Processing record: 310 kirs\n",
      "Processing record: 311 pahrump\n",
      "Processing record: 312 lancaster\n",
      "Processing record: 313 ancud\n",
      "Processing record: 314 mehamn\n",
      "Processing record: 315 jardim\n",
      "Processing record: 316 kavieng\n",
      "Processing record: 317 kamenka\n",
      "Processing record: 318 boa vista\n",
      "Processing record: 319 ferrol\n",
      "Processing record: 320 canavieiras\n",
      "Processing record: 321 viesca\n",
      "Processing record: 322 asau\n",
      "Processing record: 323 san cristobal\n",
      "Processing record: 324 zima\n",
      "Processing record: 325 chifeng\n",
      "Processing record: 326 oeiras\n",
      "Processing record: 327 cortez\n",
      "Processing record: 328 ahar\n",
      "Processing record: 329 tual\n",
      "Processing record: 330 verkh-usugli\n",
      "Processing record: 331 aquiraz\n",
      "Processing record: 332 izsofalva\n",
      "Processing record: 334 batemans bay\n",
      "Processing record: 335 dwarka\n",
      "Processing record: 336 hede\n",
      "Processing record: 337 nantucket\n",
      "Processing record: 338 klaksvik\n",
      "Processing record: 339 bacolod\n",
      "Processing record: 340 pangnirtung\n",
      "Processing record: 341 makakilo city\n",
      "Processing record: 342 woodward\n",
      "Processing record: 343 peleduy\n",
      "Processing record: 344 camargo\n",
      "Processing record: 345 margate\n",
      "Processing record: 346 petropavlovsk-kamchatskiy\n",
      "Processing record: 347 aklavik\n",
      "Processing record: 348 kruisfontein\n",
      "Processing record: 349 cap-aux-meules\n",
      "Processing record: 350 goderich\n",
      "Processing record: 351 pangkalanbuun\n",
      "Processing record: 352 eureka\n",
      "Processing record: 353 san policarpo\n",
      "Processing record: 355 cururupu\n",
      "Processing record: 356 fort nelson\n",
      "Processing record: 357 canon city\n",
      "Processing record: 358 brigantine\n",
      "Processing record: 359 izhma\n",
      "Processing record: 360 dyurtyuli\n",
      "Processing record: 361 clinton\n",
      "Processing record: 362 cap malheureux\n",
      "Processing record: 363 nowa ruda\n",
      "Processing record: 364 te anau\n",
      "Processing record: 365 taksimo\n",
      "Processing record: 366 palmer\n",
      "Processing record: 367 salihorsk\n",
      "Processing record: 368 lindas\n",
      "Processing record: 369 rabo de peixe\n",
      "Processing record: 370 udachnyy\n",
      "Processing record: 371 lagoa\n",
      "Processing record: 372 kyra\n",
      "Processing record: 373 araripe\n",
      "Processing record: 374 port blair\n",
      "Processing record: 375 merrill\n",
      "Processing record: 376 slavsk\n",
      "Processing record: 377 beloha\n",
      "Processing record: 378 vila franca do campo\n",
      "Processing record: 379 manokwari\n",
      "Processing record: 380 ambilobe\n",
      "Processing record: 381 kilrush\n",
      "Processing record: 383 la ronge\n",
      "Processing record: 384 riberalta\n",
      "Processing record: 385 bambous virieux\n",
      "Processing record: 386 lyuban\n",
      "Processing record: 388 dingle\n",
      "Processing record: 389 sorong\n",
      "Processing record: 390 warrington\n",
      "Processing record: 391 kodiak\n",
      "Processing record: 392 vila velha\n",
      "Processing record: 393 henties bay\n",
      "Processing record: 394 comodoro rivadavia\n",
      "Processing record: 395 waddan\n",
      "Processing record: 396 iztapa\n",
      "Processing record: 397 nishihara\n",
      "Processing record: 398 kem\n",
      "Processing record: 400 moose factory\n",
      "Processing record: 401 birjand\n",
      "Processing record: 402 nusaybin\n",
      "Processing record: 403 kizlyar\n",
      "Processing record: 404 erdokertes\n",
      "Processing record: 405 ngunguru\n",
      "Processing record: 406 quirinopolis\n",
      "Processing record: 407 finschhafen\n",
      "Processing record: 408 morondava\n",
      "Processing record: 409 murray bridge\n",
      "Processing record: 410 dieppe\n",
      "Processing record: 411 alihe\n",
      "Processing record: 412 sitka\n",
      "Processing record: 413 port macquarie\n",
      "Processing record: 414 santa marinella\n",
      "Processing record: 415 souillac\n",
      "Processing record: 416 najran\n",
      "Processing record: 417 ribeira grande\n",
      "Processing record: 419 sao filipe\n",
      "Processing record: 420 dingzhou\n",
      "Processing record: 421 roma\n",
      "Processing record: 422 hurghada\n",
      "Processing record: 423 juneau\n",
      "Processing record: 424 dourados\n",
      "Processing record: 425 richards bay\n",
      "Processing record: 426 wanganui\n",
      "Processing record: 427 petukhovo\n",
      "Processing record: 429 sibolga\n",
      "Processing record: 430 ucluelet\n",
      "Processing record: 431 novyy urengoy\n",
      "Processing record: 432 chanika\n",
      "Processing record: 434 pisco\n",
      "Processing record: 435 hokitika\n",
      "Processing record: 436 chinsali\n",
      "Processing record: 437 mahibadhoo\n",
      "Processing record: 438 naifaru\n",
      "Processing record: 439 constantine\n",
      "Processing record: 440 ipoti\n",
      "Processing record: 441 glenwood springs\n",
      "Processing record: 442 worthing\n",
      "Processing record: 443 dubbo\n",
      "Processing record: 444 nushki\n",
      "Processing record: 445 port moresby\n",
      "Processing record: 446 kieta\n",
      "Processing record: 447 xingyi\n",
      "Processing record: 448 natyrbovo\n",
      "Processing record: 449 buraydah\n",
      "Processing record: 450 moratuwa\n",
      "Processing record: 451 regina\n",
      "Processing record: 452 yantal\n",
      "Processing record: 453 ekhabi\n",
      "Processing record: 454 tautira\n",
      "Processing record: 457 sri aman\n",
      "Processing record: 458 mount isa\n",
      "Processing record: 459 rotifunk\n",
      "Processing record: 460 kapatalan\n",
      "Processing record: 462 abbeville\n",
      "Processing record: 463 stanley\n",
      "Processing record: 464 port angeles\n",
      "Processing record: 465 chino valley\n",
      "Processing record: 466 sabang\n",
      "Processing record: 467 terrace\n",
      "Processing record: 468 honiara\n",
      "Processing record: 469 kaoma\n",
      "Processing record: 470 matagami\n",
      "Processing record: 471 nijar\n",
      "Processing record: 472 vredendal\n",
      "Processing record: 473 gravdal\n",
      "Processing record: 474 peniche\n",
      "Processing record: 475 yeppoon\n",
      "Processing record: 476 naze\n",
      "Processing record: 477 lac du bonnet\n",
      "Processing record: 478 sung noen\n",
      "Processing record: 479 hami\n",
      "Processing record: 480 voh\n",
      "Processing record: 481 ust-shonosha\n",
      "Processing record: 482 malanje\n",
      "Processing record: 483 tazovskiy\n",
      "Processing record: 484 abu kamal\n",
      "Processing record: 485 muros\n",
      "Processing record: 486 anadyr\n",
      "Processing record: 487 ulefoss\n",
      "Processing record: 488 suhbaatar\n",
      "Processing record: 489 chumikan\n",
      "Processing record: 490 rulenge\n",
      "Processing record: 491 salalah\n",
      "Processing record: 492 new pitsligo\n",
      "Processing record: 493 saint-francois\n",
      "Processing record: 494 mpongwe\n",
      "Processing record: 495 christchurch\n",
      "Processing record: 496 kutum\n",
      "Processing record: 497 agadez\n",
      "Processing record: 498 sinnamary\n",
      "Processing record: 499 angoche\n",
      "Processing record: 500 nizhniy kuranakh\n",
      "Processing record: 502 havelock\n",
      "Processing record: 503 mayumba\n",
      "Processing record: 504 natal\n",
      "Processing record: 505 aranos\n",
      "Processing record: 506 san buenaventura\n",
      "Processing record: 507 nabire\n",
      "Processing record: 508 khandyga\n",
      "Processing record: 510 auki\n",
      "Processing record: 511 saint-pierre\n",
      "Processing record: 513 huarmey\n",
      "Processing record: 514 andenes\n",
      "Processing record: 515 bana\n",
      "Processing record: 516 lengshuijiang\n",
      "Processing record: 517 sechura\n",
      "Processing record: 518 ust-kalmanka\n",
      "Processing record: 519 prince rupert\n",
      "Processing record: 520 arona\n",
      "Processing record: 521 placido de castro\n",
      "Processing record: 523 savannah bight\n",
      "Processing record: 524 waipawa\n",
      "Processing record: 525 altay\n",
      "Processing record: 526 boda\n",
      "Processing record: 527 torbay\n",
      "Processing record: 529 mizdah\n",
      "Processing record: 530 tiznit\n",
      "Processing record: 531 portobelo\n",
      "Processing record: 532 jalu\n",
      "Processing record: 533 giresun\n",
      "Processing record: 534 arawa\n",
      "Processing record: 535 tonj\n",
      "Processing record: 536 taltal\n",
      "Processing record: 537 catamarca\n",
      "Processing record: 538 mount gambier\n",
      "Processing record: 539 tevaitoa\n",
      "Processing record: 540 kaitangata\n",
      "Processing record: 541 grindavik\n",
      "Processing record: 543 timra\n",
      "Processing record: 544 xam nua\n",
      "Processing record: 545 portmore\n",
      "Processing record: 546 gizo\n",
      "Processing record: 547 grand gaube\n",
      "Processing record: 548 qui nhon\n",
      "Processing record: 549 santa vitoria do palmar\n",
      "Processing record: 550 abonnema\n",
      "Processing record: 552 nome\n",
      "Processing record: 553 akropong\n",
      "Processing record: 554 paita\n",
      "Processing record: 555 liberal\n",
      "Processing record: 556 wanning\n"
     ]
    },
    {
     "name": "stdout",
     "output_type": "stream",
     "text": [
      "Processing record: 557 hay river\n",
      "Processing record: 558 adrar\n",
      "Processing record: 559 santa quiteria\n",
      "Processing record: 560 jaysingpur\n",
      "Processing record: 562 booue\n",
      "Processing record: 563 guarapari\n",
      "Processing record: 564 njombe\n",
      "Processing record: 565 dunedin\n",
      "Processing record: 566 samarai\n",
      "Processing record: 567 lodwar\n",
      "Processing record: 568 kaka\n",
      "Processing record: 569 eyl\n",
      "Processing record: 570 zhigansk\n",
      "Processing record: 571 mitu\n",
      "Processing record: 572 tawau\n",
      "Processing record: 573 walvis bay\n",
      "Processing record: 574 pozo colorado\n",
      "Processing record: 575 milas\n",
      "Processing record: 576 port hawkesbury\n",
      "Processing record: 577 catabola\n",
      "Processing record: 580 balclutha\n",
      "Processing record: 581 erenhot\n",
      "Processing record: 582 sola\n",
      "Processing record: 583 hastings\n",
      "Processing record: 584 viedma\n",
      "Processing record: 585 adelaide\n",
      "Processing record: 586 alta floresta\n",
      "Processing record: 587 aksay\n",
      "Processing record: 588 darlowo\n",
      "Processing record: 589 los llanos de aridane\n",
      "Processing record: 590 carballo\n",
      "Processing record: 591 coolum beach\n",
      "Processing record: 592 areia branca\n",
      "Processing record: 593 parrsboro\n",
      "Processing record: 594 jizan\n",
      "Processing record: 595 ust-nera\n",
      "Processing record: 598 urengoy\n",
      "Processing record: 599 rosario\n",
      "Processing record: 600 quatre cocos\n",
      "Processing record: 601 mercedes\n",
      "Processing record: 602 nerchinskiy zavod\n",
      "Processing record: 603 assare\n",
      "Processing record: 604 saiha\n",
      "Processing record: 605 peace river\n",
      "data retrieval completed\n"
     ]
    }
   ],
   "source": [
    "url = \"https://api.openweathermap.org/data/2.5/weather?\"\n",
    "units = \"metric\"\n",
    "qurl = f\"{url}appid={weather_api_key}&units={units}&q=\"\n",
    "\n",
    "cities_data = {\"City\": [],\n",
    "              \"Lats\": [],\n",
    "              \"Lngs\": [],\n",
    "              \"Max Temp\": [],\n",
    "              \"Humidity\": [],\n",
    "              \"Cloudiness\": [],\n",
    "              \"Wind Speed\": [],\n",
    "              \"Country\": [],\n",
    "              \"Date\": []}\n",
    "print(\"Starting Retrieval...\")\n",
    "for i,city in enumerate(cities):\n",
    "    response = requests.get(qurl + city)\n",
    "    \n",
    "    #checks to see if our city in cities is a valid input for our response\n",
    "    #we could also use a try + except here instead of this if statement, logically these are equivalent\n",
    "    if response.status_code == 200:\n",
    "        response = response.json()\n",
    "    \n",
    "        print(\"Processing record:\", str(i), city)\n",
    "        cities_data[\"City\"].append(response[\"name\"])\n",
    "        cities_data[\"Lats\"].append(response[\"coord\"][\"lat\"])\n",
    "        cities_data[\"Lngs\"].append(response[\"coord\"][\"lon\"])\n",
    "        cities_data[\"Max Temp\"].append(response[\"main\"][\"temp_max\"])\n",
    "        cities_data[\"Humidity\"].append(response[\"main\"][\"humidity\"])\n",
    "        cities_data[\"Cloudiness\"].append(response[\"clouds\"][\"all\"])\n",
    "        cities_data[\"Wind Speed\"].append(response[\"wind\"][\"speed\"])\n",
    "        cities_data[\"Country\"].append(response[\"sys\"][\"country\"])\n",
    "        cities_data[\"Date\"].append(response[\"dt\"])\n",
    " \n",
    "print(\"data retrieval completed\")"
   ]
  },
  {
   "cell_type": "markdown",
   "metadata": {},
   "source": [
    "### Convert Raw Data to DataFrame\n",
    "* Export the city data into a .csv.\n",
    "* Display the DataFrame"
   ]
  },
  {
   "cell_type": "code",
   "execution_count": 6,
   "metadata": {},
   "outputs": [
    {
     "data": {
      "text/html": [
       "<div>\n",
       "<style scoped>\n",
       "    .dataframe tbody tr th:only-of-type {\n",
       "        vertical-align: middle;\n",
       "    }\n",
       "\n",
       "    .dataframe tbody tr th {\n",
       "        vertical-align: top;\n",
       "    }\n",
       "\n",
       "    .dataframe thead th {\n",
       "        text-align: right;\n",
       "    }\n",
       "</style>\n",
       "<table border=\"1\" class=\"dataframe\">\n",
       "  <thead>\n",
       "    <tr style=\"text-align: right;\">\n",
       "      <th></th>\n",
       "      <th>City</th>\n",
       "      <th>Lats</th>\n",
       "      <th>Lngs</th>\n",
       "      <th>Max Temp</th>\n",
       "      <th>Humidity</th>\n",
       "      <th>Cloudiness</th>\n",
       "      <th>Wind Speed</th>\n",
       "      <th>Country</th>\n",
       "      <th>Date</th>\n",
       "    </tr>\n",
       "  </thead>\n",
       "  <tbody>\n",
       "    <tr>\n",
       "      <th>0</th>\n",
       "      <td>Nikolskoye</td>\n",
       "      <td>59.7035</td>\n",
       "      <td>30.7861</td>\n",
       "      <td>18.77</td>\n",
       "      <td>82</td>\n",
       "      <td>49</td>\n",
       "      <td>1.17</td>\n",
       "      <td>RU</td>\n",
       "      <td>1659555815</td>\n",
       "    </tr>\n",
       "    <tr>\n",
       "      <th>1</th>\n",
       "      <td>Busselton</td>\n",
       "      <td>-33.6500</td>\n",
       "      <td>115.3333</td>\n",
       "      <td>11.89</td>\n",
       "      <td>73</td>\n",
       "      <td>95</td>\n",
       "      <td>8.35</td>\n",
       "      <td>AU</td>\n",
       "      <td>1659555816</td>\n",
       "    </tr>\n",
       "    <tr>\n",
       "      <th>2</th>\n",
       "      <td>Mataura</td>\n",
       "      <td>-46.1927</td>\n",
       "      <td>168.8643</td>\n",
       "      <td>6.93</td>\n",
       "      <td>87</td>\n",
       "      <td>100</td>\n",
       "      <td>1.84</td>\n",
       "      <td>NZ</td>\n",
       "      <td>1659555816</td>\n",
       "    </tr>\n",
       "    <tr>\n",
       "      <th>3</th>\n",
       "      <td>Olafsvik</td>\n",
       "      <td>64.8945</td>\n",
       "      <td>-23.7142</td>\n",
       "      <td>10.02</td>\n",
       "      <td>65</td>\n",
       "      <td>15</td>\n",
       "      <td>5.07</td>\n",
       "      <td>IS</td>\n",
       "      <td>1659555601</td>\n",
       "    </tr>\n",
       "    <tr>\n",
       "      <th>4</th>\n",
       "      <td>Rikitea</td>\n",
       "      <td>-23.1203</td>\n",
       "      <td>-134.9692</td>\n",
       "      <td>22.29</td>\n",
       "      <td>68</td>\n",
       "      <td>71</td>\n",
       "      <td>7.16</td>\n",
       "      <td>PF</td>\n",
       "      <td>1659555817</td>\n",
       "    </tr>\n",
       "  </tbody>\n",
       "</table>\n",
       "</div>"
      ],
      "text/plain": [
       "         City     Lats      Lngs  Max Temp  Humidity  Cloudiness  Wind Speed  \\\n",
       "0  Nikolskoye  59.7035   30.7861     18.77        82          49        1.17   \n",
       "1   Busselton -33.6500  115.3333     11.89        73          95        8.35   \n",
       "2     Mataura -46.1927  168.8643      6.93        87         100        1.84   \n",
       "3    Olafsvik  64.8945  -23.7142     10.02        65          15        5.07   \n",
       "4     Rikitea -23.1203 -134.9692     22.29        68          71        7.16   \n",
       "\n",
       "  Country        Date  \n",
       "0      RU  1659555815  \n",
       "1      AU  1659555816  \n",
       "2      NZ  1659555816  \n",
       "3      IS  1659555601  \n",
       "4      PF  1659555817  "
      ]
     },
     "execution_count": 6,
     "metadata": {},
     "output_type": "execute_result"
    }
   ],
   "source": [
    "cities_data = pd.DataFrame(cities_data)\n",
    "\n",
    "cities_data.head()"
   ]
  },
  {
   "cell_type": "code",
   "execution_count": 7,
   "metadata": {},
   "outputs": [],
   "source": [
    "#puts our data into a csv file\n",
    "cities_data.to_csv('output_data/cities.csv')"
   ]
  },
  {
   "cell_type": "code",
   "execution_count": 8,
   "metadata": {},
   "outputs": [
    {
     "data": {
      "text/html": [
       "<div>\n",
       "<style scoped>\n",
       "    .dataframe tbody tr th:only-of-type {\n",
       "        vertical-align: middle;\n",
       "    }\n",
       "\n",
       "    .dataframe tbody tr th {\n",
       "        vertical-align: top;\n",
       "    }\n",
       "\n",
       "    .dataframe thead th {\n",
       "        text-align: right;\n",
       "    }\n",
       "</style>\n",
       "<table border=\"1\" class=\"dataframe\">\n",
       "  <thead>\n",
       "    <tr style=\"text-align: right;\">\n",
       "      <th></th>\n",
       "      <th>Lats</th>\n",
       "      <th>Lngs</th>\n",
       "      <th>Max Temp</th>\n",
       "      <th>Humidity</th>\n",
       "      <th>Cloudiness</th>\n",
       "      <th>Wind Speed</th>\n",
       "      <th>Date</th>\n",
       "    </tr>\n",
       "  </thead>\n",
       "  <tbody>\n",
       "    <tr>\n",
       "      <th>count</th>\n",
       "      <td>558.000000</td>\n",
       "      <td>558.000000</td>\n",
       "      <td>558.000000</td>\n",
       "      <td>558.000000</td>\n",
       "      <td>558.000000</td>\n",
       "      <td>558.000000</td>\n",
       "      <td>5.580000e+02</td>\n",
       "    </tr>\n",
       "    <tr>\n",
       "      <th>median</th>\n",
       "      <td>27.170350</td>\n",
       "      <td>19.374650</td>\n",
       "      <td>21.645000</td>\n",
       "      <td>77.000000</td>\n",
       "      <td>70.000000</td>\n",
       "      <td>3.090000</td>\n",
       "      <td>1.659556e+09</td>\n",
       "    </tr>\n",
       "    <tr>\n",
       "      <th>min</th>\n",
       "      <td>-54.800000</td>\n",
       "      <td>-175.200000</td>\n",
       "      <td>1.930000</td>\n",
       "      <td>1.000000</td>\n",
       "      <td>0.000000</td>\n",
       "      <td>0.000000</td>\n",
       "      <td>1.659555e+09</td>\n",
       "    </tr>\n",
       "    <tr>\n",
       "      <th>sem</th>\n",
       "      <td>1.448551</td>\n",
       "      <td>3.852543</td>\n",
       "      <td>0.333511</td>\n",
       "      <td>0.884097</td>\n",
       "      <td>1.696164</td>\n",
       "      <td>0.107130</td>\n",
       "      <td>4.523375e+00</td>\n",
       "    </tr>\n",
       "    <tr>\n",
       "      <th>max</th>\n",
       "      <td>78.218600</td>\n",
       "      <td>179.316700</td>\n",
       "      <td>39.980000</td>\n",
       "      <td>100.000000</td>\n",
       "      <td>100.000000</td>\n",
       "      <td>14.740000</td>\n",
       "      <td>1.659556e+09</td>\n",
       "    </tr>\n",
       "    <tr>\n",
       "      <th>var</th>\n",
       "      <td>1170.851505</td>\n",
       "      <td>8281.882720</td>\n",
       "      <td>62.066093</td>\n",
       "      <td>436.147784</td>\n",
       "      <td>1605.349961</td>\n",
       "      <td>6.404098</td>\n",
       "      <td>1.141719e+04</td>\n",
       "    </tr>\n",
       "    <tr>\n",
       "      <th>std</th>\n",
       "      <td>34.217707</td>\n",
       "      <td>91.004850</td>\n",
       "      <td>7.878204</td>\n",
       "      <td>20.884151</td>\n",
       "      <td>40.066819</td>\n",
       "      <td>2.530632</td>\n",
       "      <td>1.068513e+02</td>\n",
       "    </tr>\n",
       "    <tr>\n",
       "      <th>mean</th>\n",
       "      <td>20.105501</td>\n",
       "      <td>19.966494</td>\n",
       "      <td>21.260108</td>\n",
       "      <td>71.802867</td>\n",
       "      <td>55.939068</td>\n",
       "      <td>3.615968</td>\n",
       "      <td>1.659556e+09</td>\n",
       "    </tr>\n",
       "  </tbody>\n",
       "</table>\n",
       "</div>"
      ],
      "text/plain": [
       "               Lats         Lngs    Max Temp    Humidity   Cloudiness  \\\n",
       "count    558.000000   558.000000  558.000000  558.000000   558.000000   \n",
       "median    27.170350    19.374650   21.645000   77.000000    70.000000   \n",
       "min      -54.800000  -175.200000    1.930000    1.000000     0.000000   \n",
       "sem        1.448551     3.852543    0.333511    0.884097     1.696164   \n",
       "max       78.218600   179.316700   39.980000  100.000000   100.000000   \n",
       "var     1170.851505  8281.882720   62.066093  436.147784  1605.349961   \n",
       "std       34.217707    91.004850    7.878204   20.884151    40.066819   \n",
       "mean      20.105501    19.966494   21.260108   71.802867    55.939068   \n",
       "\n",
       "        Wind Speed          Date  \n",
       "count   558.000000  5.580000e+02  \n",
       "median    3.090000  1.659556e+09  \n",
       "min       0.000000  1.659555e+09  \n",
       "sem       0.107130  4.523375e+00  \n",
       "max      14.740000  1.659556e+09  \n",
       "var       6.404098  1.141719e+04  \n",
       "std       2.530632  1.068513e+02  \n",
       "mean      3.615968  1.659556e+09  "
      ]
     },
     "execution_count": 8,
     "metadata": {},
     "output_type": "execute_result"
    }
   ],
   "source": [
    "#dropping the columns that dont have numerical data so we can use the aggregate function\n",
    "ints_only = cities_data.drop(columns = [\"City\", \"Country\"])\n",
    "\n",
    "ints_only.agg({\"count\", \"mean\", \"median\", \"var\", \"std\", \"sem\", \"min\", \"max\"})"
   ]
  },
  {
   "cell_type": "markdown",
   "metadata": {},
   "source": [
    "## Inspect the data and remove the cities where the humidity > 100%.\n",
    "----\n",
    "Skip this step if there are no cities that have humidity > 100%. "
   ]
  },
  {
   "cell_type": "code",
   "execution_count": 9,
   "metadata": {},
   "outputs": [],
   "source": [
    "#skipping this step because by our summary table the maximum humidity value is 100\n",
    "#so therefore there is no city with a humidity value greater than 100\n",
    "#i have written some code to show the process of removing cities with >100% humidity"
   ]
  },
  {
   "cell_type": "code",
   "execution_count": 10,
   "metadata": {},
   "outputs": [],
   "source": [
    "#  Get the indices of cities that have humidity over 100%.\n",
    "\n",
    "#over100 = cities_data.loc[cities_data[\"Humidity\"] > 100]\n",
    "#over100"
   ]
  },
  {
   "cell_type": "code",
   "execution_count": 11,
   "metadata": {},
   "outputs": [],
   "source": [
    "# Make a new DataFrame equal to the city data to drop all humidity outliers by index.\n",
    "# Passing \"inplace=False\" will make a copy of the city_data DataFrame, which we call \"clean_city_data\".\n",
    "# city_data = city_data.loc[cities_data[\"Humidity\"] <= 100]"
   ]
  },
  {
   "cell_type": "markdown",
   "metadata": {},
   "source": [
    "## Plotting the Data\n",
    "* Use proper labeling of the plots using plot titles (including date of analysis) and axes labels.\n",
    "* Save the plotted figures as .pngs."
   ]
  },
  {
   "cell_type": "markdown",
   "metadata": {},
   "source": [
    "## Latitude vs. Temperature Plot"
   ]
  },
  {
   "cell_type": "code",
   "execution_count": 12,
   "metadata": {},
   "outputs": [
    {
     "data": {
      "image/png": "[encoded data removed]",
      "text/plain": [
       "<Figure size 432x288 with 1 Axes>"
      ]
     },
     "metadata": {
      "needs_background": "light"
     },
     "output_type": "display_data"
    }
   ],
   "source": [
    "#creating and saving our figure\n",
    "fig1 = plt.figure()\n",
    "plt.scatter(cities_data[\"Lats\"], cities_data[\"Max Temp\"], marker=\"o\", facecolors=\"teal\", edgecolors=\"black\")\n",
    "\n",
    "plt.title(\"City Latitude vs Max Temperature (08/01/2022)\")\n",
    "plt.xlabel(\"Latitude\")\n",
    "plt.ylabel(\"Max Temperature (C)\")\n",
    "\n",
    "plt.show()\n",
    "\n",
    "#for all graphs open through jupyter notebook, \n",
    "#or make sure the photo viewer on your computer is set to light mode so you can see the axis labels\n",
    "fig1.savefig(\"output_data/CityLatVsMaxTemp_08_01_2022.png\", dpi = 150)"
   ]
  },
  {
   "cell_type": "markdown",
   "metadata": {},
   "source": [
    "## Latitude vs. Humidity Plot"
   ]
  },
  {
   "cell_type": "code",
   "execution_count": 13,
   "metadata": {},
   "outputs": [
    {
     "data": {
      "image/png": "[encoded data removed]",
      "text/plain": [
       "<Figure size 432x288 with 1 Axes>"
      ]
     },
     "metadata": {
      "needs_background": "light"
     },
     "output_type": "display_data"
    }
   ],
   "source": [
    "#creating and saving our figure\n",
    "fig2 = plt.figure()\n",
    "plt.scatter(cities_data[\"Lats\"], cities_data[\"Humidity\"], marker=\"o\", facecolors=\"teal\", edgecolors=\"black\")\n",
    "\n",
    "plt.title(\"City Latitude vs Humidity (08/01/2022)\")\n",
    "plt.xlabel(\"Latitude\")\n",
    "plt.ylabel(\"Humidity\")\n",
    "\n",
    "plt.show()\n",
    "\n",
    "fig2.savefig(\"output_data/CityLatVsHumidity_08_01_2022.png\", dpi = 150)"
   ]
  },
  {
   "cell_type": "markdown",
   "metadata": {},
   "source": [
    "## Latitude vs. Cloudiness Plot"
   ]
  },
  {
   "cell_type": "code",
   "execution_count": 14,
   "metadata": {},
   "outputs": [
    {
     "data": {
      "image/png": "[encoded data removed]",
      "text/plain": [
       "<Figure size 432x288 with 1 Axes>"
      ]
     },
     "metadata": {
      "needs_background": "light"
     },
     "output_type": "display_data"
    }
   ],
   "source": [
    "#creating and saving our figure\n",
    "fig3 = plt.figure()\n",
    "plt.scatter(cities_data[\"Lats\"], cities_data[\"Cloudiness\"], marker=\"o\", facecolors=\"teal\", edgecolors=\"black\")\n",
    "\n",
    "plt.title(\"City Latitude vs Cloudiness (08/01/2022)\")\n",
    "plt.xlabel(\"Latitude\")\n",
    "plt.ylabel(\"Cloudiness\")\n",
    "\n",
    "plt.show()\n",
    "\n",
    "fig3.savefig(\"output_data/CityLatVsCloudiness_08_01_2022.png\", dpi = 150)"
   ]
  },
  {
   "cell_type": "markdown",
   "metadata": {},
   "source": [
    "## Latitude vs. Wind Speed Plot"
   ]
  },
  {
   "cell_type": "code",
   "execution_count": 15,
   "metadata": {},
   "outputs": [
    {
     "data": {
      "image/png": "[encoded data removed]",
      "text/plain": [
       "<Figure size 432x288 with 1 Axes>"
      ]
     },
     "metadata": {
      "needs_background": "light"
     },
     "output_type": "display_data"
    }
   ],
   "source": [
    "#creating and saving our figure\n",
    "fig4 = plt.figure()\n",
    "plt.scatter(cities_data[\"Lats\"], cities_data[\"Wind Speed\"], marker=\"o\", facecolors=\"teal\", edgecolors=\"black\")\n",
    "\n",
    "plt.title(\"City Latitude vs Wind Speed (08/01/2022)\")\n",
    "plt.xlabel(\"Latitude\")\n",
    "plt.ylabel(\"Wind Speed\")\n",
    "\n",
    "plt.show()\n",
    "\n",
    "fig4.savefig(\"output_data/CityLatVsWindSpeed_08_01_2022.png\", dpi = 150)"
   ]
  },
  {
   "cell_type": "markdown",
   "metadata": {},
   "source": [
    "## Linear Regression"
   ]
  },
  {
   "cell_type": "code",
   "execution_count": 46,
   "metadata": {},
   "outputs": [
    {
     "name": "stdout",
     "output_type": "stream",
     "text": [
      "0.5333\n"
     ]
    },
    {
     "data": {
      "text/plain": [
       "(375, 9)"
      ]
     },
     "execution_count": 46,
     "metadata": {},
     "output_type": "execute_result"
    }
   ],
   "source": [
    "#filter by northern hemisphere \n",
    "north_hemi = cities_data.loc[cities_data[\"Lats\"] >= 0]\n",
    "\n",
    "#checking to make sure our lowest value is still greater than or equal to 0\n",
    "#looking at the size of our data for Northern Hemisphere cities\n",
    "#print(north_hemi[\"Lats\"].min())\n",
    "#north_hemi.shape"
   ]
  },
  {
   "cell_type": "code",
   "execution_count": 47,
   "metadata": {},
   "outputs": [
    {
     "name": "stdout",
     "output_type": "stream",
     "text": [
      "-0.0921\n"
     ]
    },
    {
     "data": {
      "text/plain": [
       "(183, 9)"
      ]
     },
     "execution_count": 47,
     "metadata": {},
     "output_type": "execute_result"
    }
   ],
   "source": [
    "#filter by southern hemisphere\n",
    "south_hemi = cities_data.loc[cities_data[\"Lats\"] <= 0]\n",
    "\n",
    "#checking to make sure our highest value is still less than or equal to 0\n",
    "#looking at the size of our data for Northern Hemisphere cities\n",
    "#print(south_hemi[\"Lats\"].max())\n",
    "#south_hemi.shape"
   ]
  },
  {
   "cell_type": "markdown",
   "metadata": {},
   "source": [
    "####  Northern Hemisphere - Max Temp vs. Latitude Linear Regression"
   ]
  },
  {
   "cell_type": "code",
   "execution_count": 19,
   "metadata": {},
   "outputs": [],
   "source": [
    "#getting regression values\n",
    "N1_slope, N1_int, N1_r, N1_p, N1_std_err = linregress(north_hemi[\"Lats\"], north_hemi[\"Max Temp\"])\n",
    "\n",
    "#creating our line equation\n",
    "N1_fit = N1_slope * north_hemi[\"Lats\"] + N1_int\n",
    "\n",
    "#making our equation as a string so we can annotate our graph\n",
    "N1_line = \"y = \" + str(round(N1_slope,2)) + \"x + \" + str(round(N1_int, 2))"
   ]
  },
  {
   "cell_type": "code",
   "execution_count": 20,
   "metadata": {},
   "outputs": [
    {
     "name": "stdout",
     "output_type": "stream",
     "text": [
      "The r value is  -0.6335629144146457\n"
     ]
    },
    {
     "data": {
      "image/png": "[encoded data removed]",
      "text/plain": [
       "<Figure size 432x288 with 1 Axes>"
      ]
     },
     "metadata": {
      "needs_background": "light"
     },
     "output_type": "display_data"
    }
   ],
   "source": [
    "#printing our r value, plotting our regres line and annotating the equation into our graph\n",
    "print(\"The r value is \", N1_r)\n",
    "fig5 = plt.figure()\n",
    "plt.plot(north_hemi[\"Lats\"],N1_fit)\n",
    "plt.annotate(N1_line,(10,5),fontsize=15,color=\"blue\")\n",
    "\n",
    "#creating scatter plot\n",
    "plt.scatter(north_hemi[\"Lats\"], north_hemi[\"Max Temp\"], marker=\"o\", facecolors=\"red\", edgecolors=\"black\")\n",
    "\n",
    "#labeling our graph\n",
    "plt.xlabel(\"Latitude\")\n",
    "plt.ylabel(\"Max Temp (C)\")\n",
    "fig5.savefig(\"output_data/regresNothern_MaxTempVLat_08_01_2022.png\", dpi = 150)"
   ]
  },
  {
   "cell_type": "markdown",
   "metadata": {},
   "source": [
    "####  Southern Hemisphere - Max Temp vs. Latitude Linear Regression"
   ]
  },
  {
   "cell_type": "code",
   "execution_count": 21,
   "metadata": {},
   "outputs": [],
   "source": [
    "#getting regression values\n",
    "S1_slope, S1_int, S1_r, S1_p, S1_std_err = linregress(south_hemi[\"Lats\"], south_hemi[\"Max Temp\"])\n",
    "\n",
    "#creating our line equation\n",
    "S1_fit = S1_slope * south_hemi[\"Lats\"] + S1_int\n",
    "\n",
    "#making our equation as a string so we can annotate our graph\n",
    "S1_line = \"y = \" + str(round(S1_slope,2)) + \"x + \" + str(round(S1_int, 2))"
   ]
  },
  {
   "cell_type": "code",
   "execution_count": 22,
   "metadata": {},
   "outputs": [
    {
     "name": "stdout",
     "output_type": "stream",
     "text": [
      "The r value is  0.7914156426991196\n"
     ]
    },
    {
     "data": {
      "image/png": "[encoded data removed]",
      "text/plain": [
       "<Figure size 432x288 with 1 Axes>"
      ]
     },
     "metadata": {
      "needs_background": "light"
     },
     "output_type": "display_data"
    }
   ],
   "source": [
    "#printing our r value, plotting our regres line and annotating the equation into our graph\n",
    "print(\"The r value is \", S1_r)\n",
    "fig6 = plt.figure()\n",
    "plt.plot(south_hemi[\"Lats\"],S1_fit)\n",
    "plt.annotate(S1_line,(-25,5),fontsize=15,color=\"blue\")\n",
    "\n",
    "plt.scatter(south_hemi[\"Lats\"], south_hemi[\"Max Temp\"], marker=\"o\", facecolors=\"red\", edgecolors=\"black\")\n",
    "\n",
    "#labeling our graph\n",
    "plt.xlabel(\"Latitude\")\n",
    "plt.ylabel(\"Max Temp (C)\")\n",
    "fig6.savefig(\"output_data/regresSouthern_MaxTempVLat_08_01_2022.png\", dpi = 150)"
   ]
  },
  {
   "cell_type": "markdown",
   "metadata": {},
   "source": [
    "####  Northern Hemisphere - Humidity (%) vs. Latitude Linear Regression"
   ]
  },
  {
   "cell_type": "code",
   "execution_count": 23,
   "metadata": {},
   "outputs": [],
   "source": [
    "#getting regression values\n",
    "N2_slope, N2_int, N2_r, N2_p, N2_std_err = linregress(north_hemi[\"Lats\"], north_hemi[\"Humidity\"])\n",
    "\n",
    "#creating our line equation\n",
    "N2_fit = N2_slope * north_hemi[\"Lats\"] + N2_int\n",
    "\n",
    "#making our equation as a string so we can annotate our graph\n",
    "N2_line = \"y = \" + str(round(N2_slope,2)) + \"x + \" + str(round(N2_int, 2))"
   ]
  },
  {
   "cell_type": "code",
   "execution_count": 24,
   "metadata": {},
   "outputs": [
    {
     "name": "stdout",
     "output_type": "stream",
     "text": [
      "The r value is  0.043934488748679904\n"
     ]
    },
    {
     "data": {
      "image/png": "[encoded data removed]",
      "text/plain": [
       "<Figure size 432x288 with 1 Axes>"
      ]
     },
     "metadata": {
      "needs_background": "light"
     },
     "output_type": "display_data"
    }
   ],
   "source": [
    "#printing our r value, plotting our regres line and annotating the equation into our graph\n",
    "print(\"The r value is \", N2_r)\n",
    "fig5 = plt.figure()\n",
    "plt.plot(north_hemi[\"Lats\"],N2_fit)\n",
    "plt.annotate(N2_line,(50,13),fontsize=13,color=\"blue\")\n",
    "\n",
    "plt.scatter(north_hemi[\"Lats\"], north_hemi[\"Humidity\"], marker=\"o\", facecolors=\"red\", edgecolors=\"black\")\n",
    "\n",
    "#labeling our graph\n",
    "plt.xlabel(\"Latitude\")\n",
    "plt.ylabel(\"Humidity\")\n",
    "fig5.savefig(\"output_data/regresNothern_HumidityVLat_08_01_2022.png\", dpi = 150)"
   ]
  },
  {
   "cell_type": "markdown",
   "metadata": {},
   "source": [
    "####  Southern Hemisphere - Humidity (%) vs. Latitude Linear Regression"
   ]
  },
  {
   "cell_type": "code",
   "execution_count": 25,
   "metadata": {},
   "outputs": [],
   "source": [
    "#getting regression values\n",
    "S2_slope, S2_int, S2_r, S2_p, S2_std_err = linregress(south_hemi[\"Lats\"], south_hemi[\"Humidity\"])\n",
    "\n",
    "#creating our line equation\n",
    "S2_fit = S2_slope * south_hemi[\"Lats\"] + S2_int\n",
    "\n",
    "#making our equation as a string so we can annotate our graph\n",
    "S2_line = \"y = \" + str(round(S2_slope,2)) + \"x + \" + str(round(S2_int, 2))"
   ]
  },
  {
   "cell_type": "code",
   "execution_count": 26,
   "metadata": {},
   "outputs": [
    {
     "name": "stdout",
     "output_type": "stream",
     "text": [
      "The r value is  -0.13145963760192875\n"
     ]
    },
    {
     "data": {
      "image/png": "[encoded data removed]",
      "text/plain": [
       "<Figure size 432x288 with 1 Axes>"
      ]
     },
     "metadata": {
      "needs_background": "light"
     },
     "output_type": "display_data"
    }
   ],
   "source": [
    "#printing our r value, plotting our regres line and annotating the equation into our graph\n",
    "print(\"The r value is \", S2_r)\n",
    "fig6 = plt.figure()\n",
    "plt.plot(south_hemi[\"Lats\"],S2_fit)\n",
    "plt.annotate(S2_line,(-55,17),fontsize=15,color=\"blue\")\n",
    "\n",
    "plt.scatter(south_hemi[\"Lats\"], south_hemi[\"Humidity\"], marker=\"o\", facecolors=\"red\", edgecolors=\"black\")\n",
    "\n",
    "#labeling our graph\n",
    "plt.xlabel(\"Latitude\")\n",
    "plt.ylabel(\"Humidity\")\n",
    "fig6.savefig(\"output_data/regresSouthern_HumidityVLat_08_01_2022.png\", dpi = 150)"
   ]
  },
  {
   "cell_type": "markdown",
   "metadata": {},
   "source": [
    "####  Northern Hemisphere - Cloudiness (%) vs. Latitude Linear Regression"
   ]
  },
  {
   "cell_type": "code",
   "execution_count": 27,
   "metadata": {},
   "outputs": [],
   "source": [
    "#getting regression values\n",
    "N3_slope, N3_int, N3_r, N3_p, N3_std_err = linregress(north_hemi[\"Lats\"], north_hemi[\"Cloudiness\"])\n",
    "\n",
    "#creating our line equation\n",
    "N3_fit = N3_slope * north_hemi[\"Lats\"] + N3_int\n",
    "\n",
    "#making our equation as a string so we can annotate our graph\n",
    "N3_line = \"y = \" + str(round(N3_slope,2)) + \"x + \" + str(round(N3_int, 2))"
   ]
  },
  {
   "cell_type": "code",
   "execution_count": 41,
   "metadata": {},
   "outputs": [
    {
     "name": "stdout",
     "output_type": "stream",
     "text": [
      "The r value is  -0.020557641756683204\n"
     ]
    },
    {
     "data": {
      "image/png": "[encoded data removed]",
      "text/plain": [
       "<Figure size 432x288 with 1 Axes>"
      ]
     },
     "metadata": {
      "needs_background": "light"
     },
     "output_type": "display_data"
    }
   ],
   "source": [
    "#printing our r value, plotting our regres line and annotating the equation into our graph\n",
    "print(\"The r value is \", N3_r)\n",
    "fig7 = plt.figure()\n",
    "plt.plot(north_hemi[\"Lats\"],N3_fit)\n",
    "plt.annotate(N2_line,(5,30),fontsize=13,color=\"blue\")\n",
    "\n",
    "plt.scatter(north_hemi[\"Lats\"], north_hemi[\"Cloudiness\"], marker=\"o\", facecolors=\"red\", edgecolors=\"black\")\n",
    "\n",
    "#labeling our graph\n",
    "plt.xlabel(\"Latitude\")\n",
    "plt.ylabel(\"Cloudiness\")\n",
    "fig7.savefig(\"output_data/regresNothern_CloudinessVLat_08_01_2022.png\", dpi = 150)"
   ]
  },
  {
   "cell_type": "markdown",
   "metadata": {},
   "source": [
    "####  Southern Hemisphere - Cloudiness (%) vs. Latitude Linear Regression"
   ]
  },
  {
   "cell_type": "code",
   "execution_count": 29,
   "metadata": {},
   "outputs": [],
   "source": [
    "#getting regression values\n",
    "S3_slope, S3_int, S3_r, S3_p, S3_std_err = linregress(south_hemi[\"Lats\"], south_hemi[\"Cloudiness\"])\n",
    "\n",
    "#creating our line equation\n",
    "S3_fit = S3_slope * south_hemi[\"Lats\"] + S3_int\n",
    "\n",
    "#making our equation as a string so we can annotate our graph\n",
    "S3_line = \"y = \" + str(round(S3_slope,2)) + \"x + \" + str(round(S3_int, 2))"
   ]
  },
  {
   "cell_type": "code",
   "execution_count": 40,
   "metadata": {},
   "outputs": [
    {
     "name": "stdout",
     "output_type": "stream",
     "text": [
      "The r value is  -0.06324934026736564\n"
     ]
    },
    {
     "data": {
      "image/png": "[encoded data removed]",
      "text/plain": [
       "<Figure size 432x288 with 1 Axes>"
      ]
     },
     "metadata": {
      "needs_background": "light"
     },
     "output_type": "display_data"
    }
   ],
   "source": [
    "#printing our r value, plotting our regres line and annotating the equation into our graph\n",
    "print(\"The r value is \", S3_r)\n",
    "fig8 = plt.figure()\n",
    "plt.plot(south_hemi[\"Lats\"],S3_fit)\n",
    "plt.annotate(S3_line,(-55,24),fontsize=13,color=\"blue\")\n",
    "\n",
    "plt.scatter(south_hemi[\"Lats\"], south_hemi[\"Cloudiness\"], marker=\"o\", facecolors=\"red\", edgecolors=\"black\")\n",
    "\n",
    "#labeling our graph\n",
    "plt.xlabel(\"Latitude\")\n",
    "plt.ylabel(\"Cloudiness\")\n",
    "fig8.savefig(\"output_data/regresSouthern_CloudinessVLat_08_01_2022.png\", dpi = 150)"
   ]
  },
  {
   "cell_type": "markdown",
   "metadata": {},
   "source": [
    "####  Northern Hemisphere - Wind Speed (mph) vs. Latitude Linear Regression"
   ]
  },
  {
   "cell_type": "code",
   "execution_count": 31,
   "metadata": {},
   "outputs": [],
   "source": [
    "#getting regression values\n",
    "N4_slope, N4_int, N4_r, N4_p, N4_std_err = linregress(north_hemi[\"Lats\"], north_hemi[\"Wind Speed\"])\n",
    "\n",
    "#creating our line equation\n",
    "N4_fit = N4_slope * north_hemi[\"Lats\"] + N4_int\n",
    "\n",
    "#making our equation as a string so we can annotate our graph\n",
    "N4_line = \"y = \" + str(round(N4_slope,2)) + \"x + \" + str(round(N4_int, 2))"
   ]
  },
  {
   "cell_type": "code",
   "execution_count": 37,
   "metadata": {},
   "outputs": [
    {
     "name": "stdout",
     "output_type": "stream",
     "text": [
      "The r value is  -0.05589363552059825\n"
     ]
    },
    {
     "data": {
      "image/png": "[encoded data removed]",
      "text/plain": [
       "<Figure size 432x288 with 1 Axes>"
      ]
     },
     "metadata": {
      "needs_background": "light"
     },
     "output_type": "display_data"
    }
   ],
   "source": [
    "#printing our r value, plotting our regres line and annotating the equation into our graph\n",
    "print(\"The r value is \", N4_r)\n",
    "fig9 = plt.figure()\n",
    "plt.plot(north_hemi[\"Lats\"],N4_fit)\n",
    "plt.annotate(N2_line,(50,12),fontsize=13,color=\"blue\")\n",
    "\n",
    "plt.scatter(north_hemi[\"Lats\"], north_hemi[\"Wind Speed\"], marker=\"o\", facecolors=\"red\", edgecolors=\"black\")\n",
    "\n",
    "#labeling our graph\n",
    "plt.xlabel(\"Latitude\")\n",
    "plt.ylabel(\"Wind Speed\")\n",
    "fig9.savefig(\"output_data/regresNothern_WindSpeedVLat_08_01_2022.png\", dpi = 150)"
   ]
  },
  {
   "cell_type": "markdown",
   "metadata": {},
   "source": [
    "####  Southern Hemisphere - Wind Speed (mph) vs. Latitude Linear Regression"
   ]
  },
  {
   "cell_type": "code",
   "execution_count": 33,
   "metadata": {},
   "outputs": [],
   "source": [
    "#getting regression values\n",
    "S4_slope, S4_int, S4_r, S4_p, S4_std_err = linregress(south_hemi[\"Lats\"], south_hemi[\"Wind Speed\"])\n",
    "\n",
    "#creating our line equation\n",
    "S4_fit = S4_slope * south_hemi[\"Lats\"] + S4_int\n",
    "\n",
    "#making our equation as a string so we can annotate our graph\n",
    "S4_line = \"y = \" + str(round(S4_slope,2)) + \"x + \" + str(round(S4_int, 2))"
   ]
  },
  {
   "cell_type": "code",
   "execution_count": 34,
   "metadata": {},
   "outputs": [
    {
     "name": "stdout",
     "output_type": "stream",
     "text": [
      "The r value is  -0.042912697995733884\n"
     ]
    },
    {
     "data": {
      "image/png": "[encoded data removed]",
      "text/plain": [
       "<Figure size 432x288 with 1 Axes>"
      ]
     },
     "metadata": {
      "needs_background": "light"
     },
     "output_type": "display_data"
    }
   ],
   "source": [
    "#printing our r value, plotting our regres line and annotating the equation into our graph\n",
    "print(\"The r value is \", S4_r)\n",
    "fig10 = plt.figure()\n",
    "plt.plot(south_hemi[\"Lats\"],S4_fit)\n",
    "plt.annotate(S4_line,(-55,10),fontsize=13,color=\"blue\")\n",
    "\n",
    "plt.scatter(south_hemi[\"Lats\"], south_hemi[\"Wind Speed\"], marker=\"o\", facecolors=\"red\", edgecolors=\"black\")\n",
    "\n",
    "#labeling our graph\n",
    "plt.xlabel(\"Latitude\")\n",
    "plt.ylabel(\"Wind Speed\")\n",
    "fig10.savefig(\"output_data/regresSouthern_WindSpeedVLat_08_01_2022.png\", dpi = 150)"
   ]
  },
  {
   "cell_type": "code",
   "execution_count": 54,
   "metadata": {},
   "outputs": [
    {
     "data": {
      "text/plain": [
       "median    2.930000\n",
       "var       6.586175\n",
       "sem       0.132526\n",
       "std       2.566354\n",
       "mean      3.540827\n",
       "Name: Wind Speed, dtype: float64"
      ]
     },
     "execution_count": 54,
     "metadata": {},
     "output_type": "execute_result"
    }
   ],
   "source": [
    "north_hemi[\"Wind Speed\"].agg({\"mean\", \"median\", \"std\", \"sem\", \"var\"})"
   ]
  },
  {
   "cell_type": "code",
   "execution_count": 55,
   "metadata": {},
   "outputs": [
    {
     "data": {
      "text/plain": [
       "median    3.300000\n",
       "var       6.029654\n",
       "sem       0.181518\n",
       "std       2.455535\n",
       "mean      3.769945\n",
       "Name: Wind Speed, dtype: float64"
      ]
     },
     "execution_count": 55,
     "metadata": {},
     "output_type": "execute_result"
    }
   ],
   "source": [
    "south_hemi[\"Wind Speed\"].agg({\"mean\", \"median\", \"std\", \"sem\", \"var\"})"
   ]
  },
  {
   "cell_type": "code",
   "execution_count": null,
   "metadata": {},
   "outputs": [],
   "source": []
  }
 ],
 "metadata": {
  "anaconda-cloud": {},
  "kernel_info": {
   "name": "python3"
  },
  "kernelspec": {
   "display_name": "Python 3 (ipykernel)",
   "language": "python",
   "name": "python3"
  },
  "language_info": {
   "codemirror_mode": {
    "name": "ipython",
    "version": 3
   },
   "file_extension": ".py",
   "mimetype": "text/x-python",
   "name": "python",
   "nbconvert_exporter": "python",
   "pygments_lexer": "ipython3",
   "version": "3.9.12"
  },
  "latex_envs": {
   "LaTeX_envs_menu_present": true,
   "autoclose": false,
   "autocomplete": true,
   "bibliofile": "biblio.bib",
   "cite_by": "apalike",
   "current_citInitial": 1,
   "eqLabelWithNumbers": true,
   "eqNumInitial": 1,
   "hotkeys": {
    "equation": "Ctrl-E",
    "itemize": "Ctrl-I"
   },
   "labels_anchors": false,
   "latex_user_defs": false,
   "report_style_numbering": false,
   "user_envs_cfg": false
  },
  "nteract": {
   "version": "0.12.3"
  }
 },
 "nbformat": 4,
 "nbformat_minor": 2
}
